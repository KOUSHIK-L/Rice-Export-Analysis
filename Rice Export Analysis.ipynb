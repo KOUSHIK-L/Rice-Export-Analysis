{
 "cells": [
  {
   "cell_type": "markdown",
   "id": "92387001",
   "metadata": {},
   "source": [
    "### Importing Necessary Libraries"
   ]
  },
  {
   "cell_type": "code",
   "execution_count": 1,
   "id": "1c79a2a5",
   "metadata": {},
   "outputs": [],
   "source": [
    "import pandas as pd \n",
    "import seaborn as sns\n",
    "import matplotlib.pyplot as plt"
   ]
  },
  {
   "cell_type": "markdown",
   "id": "d5ee07cc",
   "metadata": {},
   "source": [
    "### Reading the CSV files from local"
   ]
  },
  {
   "cell_type": "code",
   "execution_count": 2,
   "id": "8b10aaab",
   "metadata": {},
   "outputs": [],
   "source": [
    "rice_2019 = pd.read_csv(\"D:\\\\Rice\\\\Rice Exporters 2019 - Jan.csv\")"
   ]
  },
  {
   "cell_type": "code",
   "execution_count": 3,
   "id": "ee728d4a",
   "metadata": {},
   "outputs": [],
   "source": [
    "rice_2020 = pd.read_csv(\"D:\\\\Rice\\\\Rice Exporters 2020 - Jan.csv\")"
   ]
  },
  {
   "cell_type": "code",
   "execution_count": 4,
   "id": "c97a1e53",
   "metadata": {},
   "outputs": [],
   "source": [
    "rice_2021 = pd.read_csv(\"D:\\\\Rice\\\\Rice Exporters 2021 - Jan.csv\")"
   ]
  },
  {
   "cell_type": "code",
   "execution_count": 5,
   "id": "725dc643",
   "metadata": {},
   "outputs": [],
   "source": [
    "rice_2022 = pd.read_csv(\"D:\\\\Rice\\\\Rice Exporters 2022 - Jan.csv\")"
   ]
  },
  {
   "cell_type": "code",
   "execution_count": null,
   "id": "1e65abde",
   "metadata": {},
   "outputs": [],
   "source": []
  },
  {
   "cell_type": "markdown",
   "id": "5165a297",
   "metadata": {},
   "source": [
    "### Data Cleaning and Information "
   ]
  },
  {
   "cell_type": "code",
   "execution_count": 6,
   "id": "08f08f41",
   "metadata": {},
   "outputs": [
    {
     "data": {
      "text/plain": [
       "(5655, 46)"
      ]
     },
     "execution_count": 6,
     "metadata": {},
     "output_type": "execute_result"
    }
   ],
   "source": [
    "rice_2019.shape"
   ]
  },
  {
   "cell_type": "code",
   "execution_count": 7,
   "id": "9fc6f05d",
   "metadata": {},
   "outputs": [
    {
     "data": {
      "text/plain": [
       "(6552, 46)"
      ]
     },
     "execution_count": 7,
     "metadata": {},
     "output_type": "execute_result"
    }
   ],
   "source": [
    "rice_2020.shape"
   ]
  },
  {
   "cell_type": "code",
   "execution_count": 8,
   "id": "617bba9c",
   "metadata": {},
   "outputs": [
    {
     "data": {
      "text/plain": [
       "(7387, 48)"
      ]
     },
     "execution_count": 8,
     "metadata": {},
     "output_type": "execute_result"
    }
   ],
   "source": [
    "rice_2021.shape"
   ]
  },
  {
   "cell_type": "code",
   "execution_count": 9,
   "id": "dbb39f59",
   "metadata": {},
   "outputs": [
    {
     "data": {
      "text/plain": [
       "(8699, 46)"
      ]
     },
     "execution_count": 9,
     "metadata": {},
     "output_type": "execute_result"
    }
   ],
   "source": [
    "rice_2022.shape"
   ]
  },
  {
   "cell_type": "code",
   "execution_count": null,
   "id": "33948e01",
   "metadata": {},
   "outputs": [],
   "source": []
  },
  {
   "cell_type": "code",
   "execution_count": 10,
   "id": "2d537cca",
   "metadata": {},
   "outputs": [
    {
     "data": {
      "text/plain": [
       "NO                          0\n",
       "ARRIVAL DATE                0\n",
       "HS CODE                     0\n",
       "HS CODE DESCRIPTION         1\n",
       "IMPORTER NAME              39\n",
       "IMPORTER ADDRESS           88\n",
       "IMPORTER COUNTRY            0\n",
       "CITY STATE                  1\n",
       "TEL                       145\n",
       "FAX                       168\n",
       "E-MAIL                    155\n",
       "WEB                       241\n",
       "EXPORTER NAME              56\n",
       "EXPORTER ADDRESS          140\n",
       "COUNTRY OF ORIGIN           0\n",
       "IMPORT VALUE FOB            0\n",
       "IMPORT VALUE CIF            0\n",
       "CURRENCY                   42\n",
       "NET WEIGHT                  0\n",
       "NET WEIGHT UNIT          5406\n",
       "GROSS WEIGHT                0\n",
       "GROSS WEIGHT UNIT        5518\n",
       "QUANTITY                    0\n",
       "QUANTITY UNIT             135\n",
       "PRODUCT DETAILS            74\n",
       "NUMBER OF PACKAGES          0\n",
       "PACKAGES UNIT            5588\n",
       "INCOTERMS                5613\n",
       "PLACE OF DELIVERY        5577\n",
       "BRAND NAME               5591\n",
       "MANUFACTORING COMPANY    5619\n",
       "PORT OF ARRIVAL           193\n",
       "PORT OF DEPARTURE         223\n",
       "NOTIFY PARTY             5525\n",
       "NOTIFY ADDRESS           5560\n",
       "VOLUME                      0\n",
       "VOLUME UNIT              5655\n",
       "PREPORT                  5655\n",
       "SHIPPER COUNTRY          5597\n",
       "US STATE                 5655\n",
       "US PORT2                 5655\n",
       "FINAL US PORT            5655\n",
       "FINAL FOREIGN PORT       5655\n",
       "FINAL COUNTRY            5655\n",
       "CONTAINER COUNT             0\n",
       "TOTAL TEUS                  0\n",
       "dtype: int64"
      ]
     },
     "execution_count": 10,
     "metadata": {},
     "output_type": "execute_result"
    }
   ],
   "source": [
    "rice_2019.isnull().sum()"
   ]
  },
  {
   "cell_type": "code",
   "execution_count": 11,
   "id": "1812448c",
   "metadata": {},
   "outputs": [
    {
     "data": {
      "text/plain": [
       "NO                          0\n",
       "ARRIVAL DATE                0\n",
       "HS CODE                     0\n",
       "HS CODE DESCRIPTION        82\n",
       "IMPORTER NAME              65\n",
       "IMPORTER ADDRESS          107\n",
       "IMPORTER COUNTRY            0\n",
       "CITY STATE                  2\n",
       "TEL                       164\n",
       "FAX                       190\n",
       "E-MAIL                    122\n",
       "WEB                       257\n",
       "EXPORTER NAME              33\n",
       "EXPORTER ADDRESS          240\n",
       "COUNTRY OF ORIGIN           0\n",
       "IMPORT VALUE FOB            0\n",
       "IMPORT VALUE CIF            0\n",
       "CURRENCY                  135\n",
       "NET WEIGHT                  0\n",
       "NET WEIGHT UNIT          6280\n",
       "GROSS WEIGHT                0\n",
       "GROSS WEIGHT UNIT        6266\n",
       "QUANTITY                    0\n",
       "QUANTITY UNIT             236\n",
       "PRODUCT DETAILS            89\n",
       "NUMBER OF PACKAGES          0\n",
       "PACKAGES UNIT            6501\n",
       "INCOTERMS                6431\n",
       "PLACE OF DELIVERY        6466\n",
       "BRAND NAME               6446\n",
       "MANUFACTORING COMPANY    6456\n",
       "PORT OF ARRIVAL           216\n",
       "PORT OF DEPARTURE         246\n",
       "NOTIFY PARTY             6430\n",
       "NOTIFY ADDRESS           6433\n",
       "VOLUME                      0\n",
       "VOLUME UNIT              6552\n",
       "PREPORT                  6552\n",
       "SHIPPER COUNTRY          6387\n",
       "US STATE                 6552\n",
       "US PORT2                 6552\n",
       "FINAL US PORT            6552\n",
       "FINAL FOREIGN PORT       6552\n",
       "FINAL COUNTRY            6552\n",
       "CONTAINER COUNT             0\n",
       "TOTAL TEUS                  0\n",
       "dtype: int64"
      ]
     },
     "execution_count": 11,
     "metadata": {},
     "output_type": "execute_result"
    }
   ],
   "source": [
    "rice_2020.isnull().sum()"
   ]
  },
  {
   "cell_type": "code",
   "execution_count": 12,
   "id": "2fde259e",
   "metadata": {},
   "outputs": [
    {
     "data": {
      "text/plain": [
       "NO                          0\n",
       "ARRIVAL DATE                0\n",
       "HS CODE                     0\n",
       "HS CODE DESCRIPTION        64\n",
       "IMPORTER NAME               0\n",
       "IMPORTER ADDRESS           45\n",
       "IMPORTER COUNTRY            0\n",
       "CITY STATE                  3\n",
       "TEL                       144\n",
       "FAX                       174\n",
       "E-MAIL                    128\n",
       "WEB                       328\n",
       "EXPORTER NAME              23\n",
       "PORT OF DEPARTURE         659\n",
       "EXPORTER ADDRESS          647\n",
       "COUNTRY OF ORIGIN           0\n",
       "IMPORT VALUE FOB            0\n",
       "IMPORT VALUE CIF            0\n",
       "CURRENCY                  162\n",
       "NET WEIGHT                  0\n",
       "NET WEIGHT UNIT          6716\n",
       "GROSS WEIGHT                0\n",
       "GROSS WEIGHT UNIT        6700\n",
       "QUANTITY                    0\n",
       "Final Qty                   0\n",
       "QUANTITY UNIT              22\n",
       "PRODUCT DETAILS           139\n",
       "NUMBER OF PACKAGES          0\n",
       "PACKAGES UNIT            7028\n",
       "INCOTERMS                7206\n",
       "PLACE OF DELIVERY        7277\n",
       "BRAND NAME               7276\n",
       "MANUFACTORING COMPANY    7308\n",
       "PORT OF ARRIVAL           262\n",
       "PORT OF DEPARTURE.1       659\n",
       "NOTIFY PARTY             6899\n",
       "NOTIFY ADDRESS           7198\n",
       "VOLUME                      0\n",
       "VOLUME UNIT              7387\n",
       "PREPORT                  7387\n",
       "SHIPPER COUNTRY          7114\n",
       "US STATE                 7387\n",
       "US PORT2                 7387\n",
       "FINAL US PORT            7387\n",
       "FINAL FOREIGN PORT       7387\n",
       "FINAL COUNTRY            7387\n",
       "CONTAINER COUNT             0\n",
       "TOTAL TEUS                  0\n",
       "dtype: int64"
      ]
     },
     "execution_count": 12,
     "metadata": {},
     "output_type": "execute_result"
    }
   ],
   "source": [
    "rice_2021.isnull().sum()"
   ]
  },
  {
   "cell_type": "code",
   "execution_count": 13,
   "id": "1d62e723",
   "metadata": {},
   "outputs": [
    {
     "data": {
      "text/plain": [
       "NO                          0\n",
       "ARRIVAL DATE                0\n",
       "HS CODE                     0\n",
       "HS CODE DESCRIPTION         0\n",
       "IMPORTER NAME              27\n",
       "IMPORTER ADDRESS           52\n",
       "IMPORTER COUNTRY            0\n",
       "CITY STATE                  0\n",
       "TEL                       175\n",
       "FAX                       196\n",
       "E-MAIL                    120\n",
       "WEB                       313\n",
       "EXPORTER NAME              33\n",
       "EXPORTER ADDRESS          199\n",
       "COUNTRY OF ORIGIN           0\n",
       "IMPORT VALUE FOB            0\n",
       "IMPORT VALUE CIF            0\n",
       "CURRENCY                   86\n",
       "NET WEIGHT                  0\n",
       "NET WEIGHT UNIT          8438\n",
       "GROSS WEIGHT                0\n",
       "GROSS WEIGHT UNIT        8345\n",
       "QUANTITY                    0\n",
       "QUANTITY UNIT             141\n",
       "PRODUCT DETAILS            75\n",
       "NUMBER OF PACKAGES          0\n",
       "PACKAGES UNIT            8524\n",
       "INCOTERMS                8466\n",
       "PLACE OF DELIVERY        8639\n",
       "BRAND NAME               8612\n",
       "MANUFACTORING COMPANY    8648\n",
       "PORT OF ARRIVAL           153\n",
       "PORT OF DEPARTURE         235\n",
       "NOTIFY PARTY             8588\n",
       "NOTIFY ADDRESS           8613\n",
       "VOLUME                      0\n",
       "VOLUME UNIT              8699\n",
       "PREPORT                  8699\n",
       "SHIPPER COUNTRY          8510\n",
       "US STATE                 8699\n",
       "US PORT2                 8699\n",
       "FINAL US PORT            8699\n",
       "FINAL FOREIGN PORT       8699\n",
       "FINAL COUNTRY            8699\n",
       "CONTAINER COUNT             0\n",
       "TOTAL TEUS                  0\n",
       "dtype: int64"
      ]
     },
     "execution_count": 13,
     "metadata": {},
     "output_type": "execute_result"
    }
   ],
   "source": [
    "rice_2022.isnull().sum()"
   ]
  },
  {
   "cell_type": "code",
   "execution_count": 14,
   "id": "dd9c2909",
   "metadata": {},
   "outputs": [
    {
     "data": {
      "text/plain": [
       "0"
      ]
     },
     "execution_count": 14,
     "metadata": {},
     "output_type": "execute_result"
    }
   ],
   "source": [
    "rice_2019.duplicated().sum()"
   ]
  },
  {
   "cell_type": "code",
   "execution_count": 15,
   "id": "9d044a5a",
   "metadata": {},
   "outputs": [
    {
     "data": {
      "text/plain": [
       "0"
      ]
     },
     "execution_count": 15,
     "metadata": {},
     "output_type": "execute_result"
    }
   ],
   "source": [
    "rice_2020.duplicated().sum()"
   ]
  },
  {
   "cell_type": "code",
   "execution_count": 16,
   "id": "8a2198de",
   "metadata": {},
   "outputs": [
    {
     "data": {
      "text/plain": [
       "0"
      ]
     },
     "execution_count": 16,
     "metadata": {},
     "output_type": "execute_result"
    }
   ],
   "source": [
    "rice_2021.duplicated().sum()"
   ]
  },
  {
   "cell_type": "code",
   "execution_count": 17,
   "id": "49c2ca3f",
   "metadata": {},
   "outputs": [
    {
     "data": {
      "text/plain": [
       "0"
      ]
     },
     "execution_count": 17,
     "metadata": {},
     "output_type": "execute_result"
    }
   ],
   "source": [
    "rice_2022.duplicated().sum()"
   ]
  },
  {
   "cell_type": "code",
   "execution_count": null,
   "id": "d60803f0",
   "metadata": {},
   "outputs": [],
   "source": []
  },
  {
   "cell_type": "code",
   "execution_count": null,
   "id": "2d052432",
   "metadata": {},
   "outputs": [],
   "source": []
  },
  {
   "cell_type": "markdown",
   "id": "f54b7ece",
   "metadata": {},
   "source": [
    "### Selecting Required Columns "
   ]
  },
  {
   "cell_type": "code",
   "execution_count": 19,
   "id": "220a77d6",
   "metadata": {},
   "outputs": [],
   "source": [
    "rice_2019 = rice_2019[['HS CODE', 'HS CODE DESCRIPTION', 'ARRIVAL DATE', 'IMPORTER NAME','IMPORTER COUNTRY', 'CITY STATE', \n",
    "                       'EXPORTER NAME', 'COUNTRY OF ORIGIN', 'IMPORT VALUE FOB', 'IMPORT VALUE CIF', 'CURRENCY', 'QUANTITY', \n",
    "                       'QUANTITY UNIT','PRODUCT DETAILS', 'NUMBER OF PACKAGES', 'PORT OF ARRIVAL', 'PORT OF DEPARTURE']]"
   ]
  },
  {
   "cell_type": "code",
   "execution_count": 20,
   "id": "0659297c",
   "metadata": {},
   "outputs": [],
   "source": [
    "rice_2020 = rice_2020[['HS CODE', 'HS CODE DESCRIPTION', 'ARRIVAL DATE', 'IMPORTER NAME','IMPORTER COUNTRY', 'CITY STATE', \n",
    "                       'EXPORTER NAME', 'COUNTRY OF ORIGIN', 'IMPORT VALUE FOB', 'IMPORT VALUE CIF', 'CURRENCY', 'QUANTITY', \n",
    "                       'QUANTITY UNIT','PRODUCT DETAILS', 'NUMBER OF PACKAGES', 'PORT OF ARRIVAL', 'PORT OF DEPARTURE']]"
   ]
  },
  {
   "cell_type": "code",
   "execution_count": 21,
   "id": "d726fde8",
   "metadata": {},
   "outputs": [],
   "source": [
    "rice_2021 = rice_2021[['HS CODE', 'HS CODE DESCRIPTION', 'ARRIVAL DATE', 'IMPORTER NAME','IMPORTER COUNTRY', 'CITY STATE', \n",
    "                       'EXPORTER NAME', 'COUNTRY OF ORIGIN', 'IMPORT VALUE FOB', 'IMPORT VALUE CIF', 'CURRENCY', 'Final Qty', \n",
    "                       'QUANTITY UNIT','PRODUCT DETAILS', 'NUMBER OF PACKAGES', 'PORT OF ARRIVAL', 'PORT OF DEPARTURE']]"
   ]
  },
  {
   "cell_type": "code",
   "execution_count": 22,
   "id": "26ef931d",
   "metadata": {},
   "outputs": [],
   "source": [
    "rice_2022 = rice_2022[['HS CODE', 'HS CODE DESCRIPTION', 'ARRIVAL DATE', 'IMPORTER NAME','IMPORTER COUNTRY', 'CITY STATE', \n",
    "                       'EXPORTER NAME', 'COUNTRY OF ORIGIN', 'IMPORT VALUE FOB', 'IMPORT VALUE CIF', 'CURRENCY', 'QUANTITY', \n",
    "                       'QUANTITY UNIT','PRODUCT DETAILS', 'NUMBER OF PACKAGES', 'PORT OF ARRIVAL', 'PORT OF DEPARTURE']]"
   ]
  },
  {
   "cell_type": "code",
   "execution_count": 23,
   "id": "dc9d5f3e",
   "metadata": {},
   "outputs": [],
   "source": [
    "rice_2021 = rice_2021.rename(columns={'Final Qty':'QUANTITY'})"
   ]
  },
  {
   "cell_type": "code",
   "execution_count": null,
   "id": "f7e71972",
   "metadata": {},
   "outputs": [],
   "source": []
  },
  {
   "cell_type": "code",
   "execution_count": 24,
   "id": "063dc0a3",
   "metadata": {},
   "outputs": [
    {
     "data": {
      "text/plain": [
       "HS CODE                0.000000\n",
       "HS CODE DESCRIPTION    0.017683\n",
       "ARRIVAL DATE           0.000000\n",
       "IMPORTER NAME          0.689655\n",
       "IMPORTER COUNTRY       0.000000\n",
       "CITY STATE             0.017683\n",
       "EXPORTER NAME          0.990274\n",
       "COUNTRY OF ORIGIN      0.000000\n",
       "IMPORT VALUE FOB       0.000000\n",
       "IMPORT VALUE CIF       0.000000\n",
       "CURRENCY               0.742706\n",
       "QUANTITY               0.000000\n",
       "QUANTITY UNIT          2.387268\n",
       "PRODUCT DETAILS        1.308576\n",
       "NUMBER OF PACKAGES     0.000000\n",
       "PORT OF ARRIVAL        3.412909\n",
       "PORT OF DEPARTURE      3.943413\n",
       "dtype: float64"
      ]
     },
     "execution_count": 24,
     "metadata": {},
     "output_type": "execute_result"
    }
   ],
   "source": [
    "(rice_2019.isnull().sum()/len(rice_2019))*100"
   ]
  },
  {
   "cell_type": "code",
   "execution_count": 25,
   "id": "29075991",
   "metadata": {},
   "outputs": [
    {
     "data": {
      "text/plain": [
       "HS CODE                0.000000\n",
       "HS CODE DESCRIPTION    1.251526\n",
       "ARRIVAL DATE           0.000000\n",
       "IMPORTER NAME          0.992063\n",
       "IMPORTER COUNTRY       0.000000\n",
       "CITY STATE             0.030525\n",
       "EXPORTER NAME          0.503663\n",
       "COUNTRY OF ORIGIN      0.000000\n",
       "IMPORT VALUE FOB       0.000000\n",
       "IMPORT VALUE CIF       0.000000\n",
       "CURRENCY               2.060440\n",
       "QUANTITY               0.000000\n",
       "QUANTITY UNIT          3.601954\n",
       "PRODUCT DETAILS        1.358364\n",
       "NUMBER OF PACKAGES     0.000000\n",
       "PORT OF ARRIVAL        3.296703\n",
       "PORT OF DEPARTURE      3.754579\n",
       "dtype: float64"
      ]
     },
     "execution_count": 25,
     "metadata": {},
     "output_type": "execute_result"
    }
   ],
   "source": [
    "(rice_2020.isnull().sum()/len(rice_2020))*100"
   ]
  },
  {
   "cell_type": "code",
   "execution_count": 26,
   "id": "881d390a",
   "metadata": {},
   "outputs": [
    {
     "data": {
      "text/plain": [
       "HS CODE                0.000000\n",
       "HS CODE DESCRIPTION    0.866387\n",
       "ARRIVAL DATE           0.000000\n",
       "IMPORTER NAME          0.000000\n",
       "IMPORTER COUNTRY       0.000000\n",
       "CITY STATE             0.040612\n",
       "EXPORTER NAME          0.311358\n",
       "COUNTRY OF ORIGIN      0.000000\n",
       "IMPORT VALUE FOB       0.000000\n",
       "IMPORT VALUE CIF       0.000000\n",
       "CURRENCY               2.193042\n",
       "QUANTITY               0.000000\n",
       "QUANTITY UNIT          0.297820\n",
       "PRODUCT DETAILS        1.881684\n",
       "NUMBER OF PACKAGES     0.000000\n",
       "PORT OF ARRIVAL        3.546771\n",
       "PORT OF DEPARTURE      8.921078\n",
       "dtype: float64"
      ]
     },
     "execution_count": 26,
     "metadata": {},
     "output_type": "execute_result"
    }
   ],
   "source": [
    "(rice_2021.isnull().sum()/len(rice_2021))*100"
   ]
  },
  {
   "cell_type": "code",
   "execution_count": 27,
   "id": "fa88b310",
   "metadata": {
    "scrolled": true
   },
   "outputs": [
    {
     "data": {
      "text/plain": [
       "HS CODE                0.000000\n",
       "HS CODE DESCRIPTION    0.000000\n",
       "ARRIVAL DATE           0.000000\n",
       "IMPORTER NAME          0.310381\n",
       "IMPORTER COUNTRY       0.000000\n",
       "CITY STATE             0.000000\n",
       "EXPORTER NAME          0.379354\n",
       "COUNTRY OF ORIGIN      0.000000\n",
       "IMPORT VALUE FOB       0.000000\n",
       "IMPORT VALUE CIF       0.000000\n",
       "CURRENCY               0.988619\n",
       "QUANTITY               0.000000\n",
       "QUANTITY UNIT          1.620876\n",
       "PRODUCT DETAILS        0.862168\n",
       "NUMBER OF PACKAGES     0.000000\n",
       "PORT OF ARRIVAL        1.758823\n",
       "PORT OF DEPARTURE      2.701460\n",
       "dtype: float64"
      ]
     },
     "execution_count": 27,
     "metadata": {},
     "output_type": "execute_result"
    }
   ],
   "source": [
    "(rice_2022.isnull().sum()/len(rice_2022))*100"
   ]
  },
  {
   "cell_type": "code",
   "execution_count": 28,
   "id": "02204bc0",
   "metadata": {},
   "outputs": [],
   "source": [
    "rice_2019['PORT OF ARRIVAL'].fillna('Not Specified', inplace=True)\n",
    "rice_2019['PORT OF DEPARTURE'].fillna('Not Specified', inplace=True)"
   ]
  },
  {
   "cell_type": "code",
   "execution_count": 29,
   "id": "42352feb",
   "metadata": {},
   "outputs": [],
   "source": [
    "rice_2020['PORT OF ARRIVAL'].fillna('Not Specified', inplace=True)\n",
    "rice_2020['PORT OF DEPARTURE'].fillna('Not Specified', inplace=True)"
   ]
  },
  {
   "cell_type": "code",
   "execution_count": 30,
   "id": "5b7c3e2c",
   "metadata": {},
   "outputs": [],
   "source": [
    "rice_2021['PORT OF ARRIVAL'].fillna('Not Specified', inplace=True)\n",
    "rice_2021['PORT OF DEPARTURE'].fillna('Not Specified', inplace=True)"
   ]
  },
  {
   "cell_type": "code",
   "execution_count": 31,
   "id": "966bb4db",
   "metadata": {},
   "outputs": [],
   "source": [
    "rice_2022['PORT OF ARRIVAL'].fillna('Not Specified', inplace=True)\n",
    "rice_2022['PORT OF DEPARTURE'].fillna('Not Specified', inplace=True)"
   ]
  },
  {
   "cell_type": "code",
   "execution_count": null,
   "id": "843107c5",
   "metadata": {},
   "outputs": [],
   "source": []
  },
  {
   "cell_type": "code",
   "execution_count": 32,
   "id": "8ab69be3",
   "metadata": {},
   "outputs": [],
   "source": [
    "rice_2019 = rice_2019.dropna()"
   ]
  },
  {
   "cell_type": "code",
   "execution_count": 33,
   "id": "bf1ec896",
   "metadata": {},
   "outputs": [],
   "source": [
    "rice_2020 = rice_2020.dropna()"
   ]
  },
  {
   "cell_type": "code",
   "execution_count": 34,
   "id": "d0543b74",
   "metadata": {},
   "outputs": [],
   "source": [
    "rice_2021 = rice_2021.dropna()"
   ]
  },
  {
   "cell_type": "code",
   "execution_count": 35,
   "id": "541e0ba7",
   "metadata": {},
   "outputs": [],
   "source": [
    "rice_2022 = rice_2022.dropna()"
   ]
  },
  {
   "cell_type": "code",
   "execution_count": null,
   "id": "b65e0911",
   "metadata": {},
   "outputs": [],
   "source": []
  },
  {
   "cell_type": "code",
   "execution_count": 36,
   "id": "0f21af0e",
   "metadata": {},
   "outputs": [
    {
     "data": {
      "text/plain": [
       "HS CODE                0\n",
       "HS CODE DESCRIPTION    0\n",
       "ARRIVAL DATE           0\n",
       "IMPORTER NAME          0\n",
       "IMPORTER COUNTRY       0\n",
       "CITY STATE             0\n",
       "EXPORTER NAME          0\n",
       "COUNTRY OF ORIGIN      0\n",
       "IMPORT VALUE FOB       0\n",
       "IMPORT VALUE CIF       0\n",
       "CURRENCY               0\n",
       "QUANTITY               0\n",
       "QUANTITY UNIT          0\n",
       "PRODUCT DETAILS        0\n",
       "NUMBER OF PACKAGES     0\n",
       "PORT OF ARRIVAL        0\n",
       "PORT OF DEPARTURE      0\n",
       "dtype: int64"
      ]
     },
     "execution_count": 36,
     "metadata": {},
     "output_type": "execute_result"
    }
   ],
   "source": [
    "rice_2019.isnull().sum()"
   ]
  },
  {
   "cell_type": "code",
   "execution_count": 37,
   "id": "7898ec6c",
   "metadata": {},
   "outputs": [
    {
     "data": {
      "text/plain": [
       "HS CODE                0\n",
       "HS CODE DESCRIPTION    0\n",
       "ARRIVAL DATE           0\n",
       "IMPORTER NAME          0\n",
       "IMPORTER COUNTRY       0\n",
       "CITY STATE             0\n",
       "EXPORTER NAME          0\n",
       "COUNTRY OF ORIGIN      0\n",
       "IMPORT VALUE FOB       0\n",
       "IMPORT VALUE CIF       0\n",
       "CURRENCY               0\n",
       "QUANTITY               0\n",
       "QUANTITY UNIT          0\n",
       "PRODUCT DETAILS        0\n",
       "NUMBER OF PACKAGES     0\n",
       "PORT OF ARRIVAL        0\n",
       "PORT OF DEPARTURE      0\n",
       "dtype: int64"
      ]
     },
     "execution_count": 37,
     "metadata": {},
     "output_type": "execute_result"
    }
   ],
   "source": [
    "rice_2020.isnull().sum()"
   ]
  },
  {
   "cell_type": "code",
   "execution_count": 38,
   "id": "db361edf",
   "metadata": {},
   "outputs": [
    {
     "data": {
      "text/plain": [
       "HS CODE                0\n",
       "HS CODE DESCRIPTION    0\n",
       "ARRIVAL DATE           0\n",
       "IMPORTER NAME          0\n",
       "IMPORTER COUNTRY       0\n",
       "CITY STATE             0\n",
       "EXPORTER NAME          0\n",
       "COUNTRY OF ORIGIN      0\n",
       "IMPORT VALUE FOB       0\n",
       "IMPORT VALUE CIF       0\n",
       "CURRENCY               0\n",
       "QUANTITY               0\n",
       "QUANTITY UNIT          0\n",
       "PRODUCT DETAILS        0\n",
       "NUMBER OF PACKAGES     0\n",
       "PORT OF ARRIVAL        0\n",
       "PORT OF DEPARTURE      0\n",
       "dtype: int64"
      ]
     },
     "execution_count": 38,
     "metadata": {},
     "output_type": "execute_result"
    }
   ],
   "source": [
    "rice_2021.isnull().sum()"
   ]
  },
  {
   "cell_type": "code",
   "execution_count": 39,
   "id": "d2ca12e2",
   "metadata": {},
   "outputs": [
    {
     "data": {
      "text/plain": [
       "HS CODE                0\n",
       "HS CODE DESCRIPTION    0\n",
       "ARRIVAL DATE           0\n",
       "IMPORTER NAME          0\n",
       "IMPORTER COUNTRY       0\n",
       "CITY STATE             0\n",
       "EXPORTER NAME          0\n",
       "COUNTRY OF ORIGIN      0\n",
       "IMPORT VALUE FOB       0\n",
       "IMPORT VALUE CIF       0\n",
       "CURRENCY               0\n",
       "QUANTITY               0\n",
       "QUANTITY UNIT          0\n",
       "PRODUCT DETAILS        0\n",
       "NUMBER OF PACKAGES     0\n",
       "PORT OF ARRIVAL        0\n",
       "PORT OF DEPARTURE      0\n",
       "dtype: int64"
      ]
     },
     "execution_count": 39,
     "metadata": {},
     "output_type": "execute_result"
    }
   ],
   "source": [
    "rice_2022.isnull().sum()"
   ]
  },
  {
   "cell_type": "markdown",
   "id": "a4d4f8f0",
   "metadata": {},
   "source": [
    "### Exploratory Data Anlysis"
   ]
  },
  {
   "cell_type": "code",
   "execution_count": 40,
   "id": "297ec5af",
   "metadata": {},
   "outputs": [
    {
     "data": {
      "text/plain": [
       "<Axes: >"
      ]
     },
     "execution_count": 40,
     "metadata": {},
     "output_type": "execute_result"
    },
    {
     "data": {
      "image/png": "[encoded data removed]",
      "text/plain": [
       "<Figure size 1500x800 with 1 Axes>"
      ]
     },
     "metadata": {},
     "output_type": "display_data"
    }
   ],
   "source": [
    "plt.figure(figsize=(15,8))\n",
    "sns.boxplot(rice_2019)"
   ]
  },
  {
   "cell_type": "code",
   "execution_count": 41,
   "id": "9754c1b7",
   "metadata": {},
   "outputs": [
    {
     "data": {
      "text/plain": [
       "<Axes: >"
      ]
     },
     "execution_count": 41,
     "metadata": {},
     "output_type": "execute_result"
    },
    {
     "data": {
      "image/png": "[encoded data removed]",
      "text/plain": [
       "<Figure size 1500x800 with 1 Axes>"
      ]
     },
     "metadata": {},
     "output_type": "display_data"
    }
   ],
   "source": [
    "plt.figure(figsize=(15,8))\n",
    "sns.boxplot(rice_2020)"
   ]
  },
  {
   "cell_type": "code",
   "execution_count": 42,
   "id": "ee1543f9",
   "metadata": {},
   "outputs": [
    {
     "data": {
      "text/plain": [
       "<Axes: >"
      ]
     },
     "execution_count": 42,
     "metadata": {},
     "output_type": "execute_result"
    },
    {
     "data": {
      "image/png": "[encoded data removed]",
      "text/plain": [
       "<Figure size 1500x800 with 1 Axes>"
      ]
     },
     "metadata": {},
     "output_type": "display_data"
    }
   ],
   "source": [
    "plt.figure(figsize=(15,8))\n",
    "sns.boxplot(rice_2021)"
   ]
  },
  {
   "cell_type": "code",
   "execution_count": 43,
   "id": "5f111723",
   "metadata": {},
   "outputs": [
    {
     "data": {
      "text/plain": [
       "<Axes: >"
      ]
     },
     "execution_count": 43,
     "metadata": {},
     "output_type": "execute_result"
    },
    {
     "data": {
      "image/png": "[encoded data removed]",
      "text/plain": [
       "<Figure size 1500x800 with 1 Axes>"
      ]
     },
     "metadata": {},
     "output_type": "display_data"
    }
   ],
   "source": [
    "plt.figure(figsize=(15,8))\n",
    "sns.boxplot(rice_2022)"
   ]
  },
  {
   "cell_type": "code",
   "execution_count": null,
   "id": "ad2f98a0",
   "metadata": {},
   "outputs": [],
   "source": []
  },
  {
   "cell_type": "code",
   "execution_count": 55,
   "id": "1571c951",
   "metadata": {},
   "outputs": [],
   "source": [
    "rice = pd.concat([rice_2019,rice_2020,rice_2021,rice_2022])"
   ]
  },
  {
   "cell_type": "code",
   "execution_count": 46,
   "id": "6850c3ae",
   "metadata": {},
   "outputs": [
    {
     "data": {
      "text/plain": [
       "(26999, 17)"
      ]
     },
     "execution_count": 46,
     "metadata": {},
     "output_type": "execute_result"
    }
   ],
   "source": [
    "rice.shape"
   ]
  },
  {
   "cell_type": "code",
   "execution_count": 47,
   "id": "ad90efd0",
   "metadata": {},
   "outputs": [
    {
     "name": "stdout",
     "output_type": "stream",
     "text": [
      "<class 'pandas.core.frame.DataFrame'>\n",
      "Int64Index: 26999 entries, 0 to 8698\n",
      "Data columns (total 17 columns):\n",
      " #   Column               Non-Null Count  Dtype  \n",
      "---  ------               --------------  -----  \n",
      " 0   HS CODE              26999 non-null  int64  \n",
      " 1   HS CODE DESCRIPTION  26999 non-null  object \n",
      " 2   ARRIVAL DATE         26999 non-null  object \n",
      " 3   IMPORTER NAME        26999 non-null  object \n",
      " 4   IMPORTER COUNTRY     26999 non-null  object \n",
      " 5   CITY STATE           26999 non-null  object \n",
      " 6   EXPORTER NAME        26999 non-null  object \n",
      " 7   COUNTRY OF ORIGIN    26999 non-null  object \n",
      " 8   IMPORT VALUE FOB     26999 non-null  float64\n",
      " 9   IMPORT VALUE CIF     26999 non-null  float64\n",
      " 10  CURRENCY             26999 non-null  object \n",
      " 11  QUANTITY             26999 non-null  float64\n",
      " 12  QUANTITY UNIT        26999 non-null  object \n",
      " 13  PRODUCT DETAILS      26999 non-null  object \n",
      " 14  NUMBER OF PACKAGES   26999 non-null  float64\n",
      " 15  PORT OF ARRIVAL      26999 non-null  object \n",
      " 16  PORT OF DEPARTURE    26999 non-null  object \n",
      "dtypes: float64(4), int64(1), object(12)\n",
      "memory usage: 3.7+ MB\n"
     ]
    }
   ],
   "source": [
    "rice.info()"
   ]
  },
  {
   "cell_type": "code",
   "execution_count": 48,
   "id": "04052572",
   "metadata": {},
   "outputs": [],
   "source": [
    "rice['HS CODE'] = rice['HS CODE'].astype(str)"
   ]
  },
  {
   "cell_type": "code",
   "execution_count": 57,
   "id": "93750cf1",
   "metadata": {},
   "outputs": [],
   "source": [
    "for i in range(len(rice)):\n",
    "    try:\n",
    "        if rice['QUANTITY UNIT'].iloc[i] in ['TON', 'TONS', 'TNE', 'TONELADA']:\n",
    "            rice.loc[i, 'QUANTITY'] *= 1000\n",
    "    except:\n",
    "        pass"
   ]
  },
  {
   "cell_type": "code",
   "execution_count": 51,
   "id": "ffcc2012",
   "metadata": {},
   "outputs": [],
   "source": [
    "rice = rice.drop('QUANTITY UNIT', axis=1)"
   ]
  },
  {
   "cell_type": "code",
   "execution_count": 53,
   "id": "8eaf5a8c",
   "metadata": {},
   "outputs": [],
   "source": [
    "rice.to_csv(\"D:\\\\Rice\\\\rice_dataset.csv\")"
   ]
  },
  {
   "cell_type": "code",
   "execution_count": null,
   "id": "ab1ffb69",
   "metadata": {},
   "outputs": [],
   "source": []
  }
 ],
 "metadata": {
  "kernelspec": {
   "display_name": "Python 3 (ipykernel)",
   "language": "python",
   "name": "python3"
  },
  "language_info": {
   "codemirror_mode": {
    "name": "ipython",
    "version": 3
   },
   "file_extension": ".py",
   "mimetype": "text/x-python",
   "name": "python",
   "nbconvert_exporter": "python",
   "pygments_lexer": "ipython3",
   "version": "3.10.9"
  }
 },
 "nbformat": 4,
 "nbformat_minor": 5
}
